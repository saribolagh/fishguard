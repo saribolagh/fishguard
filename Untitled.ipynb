{
 "cells": [
  {
   "cell_type": "code",
   "execution_count": 2,
   "id": "4d0789ad-c735-4c7b-9061-8380981ac5f7",
   "metadata": {},
   "outputs": [
    {
     "data": {
      "text/plain": [
       "<pygame.mixer.Channel at 0x7f92023c90>"
      ]
     },
     "execution_count": 2,
     "metadata": {},
     "output_type": "execute_result"
    }
   ],
   "source": [
    "import pygame\n",
    "pygame.init()\n",
    "pygame.mixer.init()\n",
    "sound = pygame.mixer.Sound('mixkit-dog-barking-twice-1.wav')\n",
    "sound.set_volume(-1)\n",
    "sound.play() "
   ]
  },
  {
   "cell_type": "code",
   "execution_count": 6,
   "id": "413afe12-6195-4a03-8a8e-8e09a8cdeee4",
   "metadata": {},
   "outputs": [],
   "source": [
    "for i in list(range(5)):\n",
    "    sound.play() "
   ]
  },
  {
   "cell_type": "code",
   "execution_count": 7,
   "id": "45f1947b-fa39-4236-afce-429c6cc9acdc",
   "metadata": {},
   "outputs": [
    {
     "data": {
      "text/plain": [
       "[0, 1, 2, 3, 4]"
      ]
     },
     "execution_count": 7,
     "metadata": {},
     "output_type": "execute_result"
    }
   ],
   "source": [
    "list(range(5))"
   ]
  },
  {
   "cell_type": "code",
   "execution_count": 1,
   "id": "56ba7d3c-9dbf-4ab3-8c69-9ba1585cc096",
   "metadata": {},
   "outputs": [],
   "source": [
    "from ultralytics import YOLO"
   ]
  },
  {
   "cell_type": "code",
   "execution_count": 2,
   "id": "c3194add-78b4-4270-a9d2-0425b0ee6088",
   "metadata": {},
   "outputs": [
    {
     "name": "stdout",
     "output_type": "stream",
     "text": [
      "WARNING ⚠️ Unable to automatically guess model task, assuming 'task=detect'. Explicitly define task for your model, i.e. 'task=detect', 'segment', 'classify','pose' or 'obb'.\n"
     ]
    }
   ],
   "source": [
    "model = YOLO(\"yolov8n_ncnn_model\")\n"
   ]
  },
  {
   "cell_type": "code",
   "execution_count": 3,
   "id": "47329294-af22-4a1f-9cd0-d1dec05ce042",
   "metadata": {},
   "outputs": [],
   "source": [
    "import cv2"
   ]
  },
  {
   "cell_type": "code",
   "execution_count": 4,
   "id": "bda28fae-d7a0-45f9-8129-114934d56d8c",
   "metadata": {},
   "outputs": [],
   "source": [
    "img = cv2.imread('bus.jpg')"
   ]
  },
  {
   "cell_type": "code",
   "execution_count": 5,
   "id": "749a2d49-9ced-4605-be00-dce0253fbda4",
   "metadata": {},
   "outputs": [
    {
     "name": "stdout",
     "output_type": "stream",
     "text": [
      "Loading yolov8n_ncnn_model for NCNN inference...\n",
      "\n",
      "0: 640x640 4 persons, 1 bus, 607.2ms\n",
      "Speed: 24.5ms preprocess, 607.2ms inference, 5.9ms postprocess per image at shape (1, 3, 640, 640)\n"
     ]
    }
   ],
   "source": [
    "results = model(img)"
   ]
  },
  {
   "cell_type": "code",
   "execution_count": 6,
   "id": "928c5ef5-e5fa-48d6-96bf-b2be2e42e377",
   "metadata": {},
   "outputs": [],
   "source": [
    "classes = {0: 'person', 1: 'bicycle', 2: 'car', 3: 'motorcycle', 4: 'airplane', 5: 'bus', 6: 'train', 7: 'truck', 8: 'boat', 9: 'traffic light', 10: 'fire hydrant', 11: 'stop sign', 12: 'parking meter', 13: 'bench', 14: 'bird', 15: 'cat', 16: 'dog', 17: 'horse', 18: 'sheep', 19: 'cow', 20: 'elephant', 21: 'bear', 22: 'zebra', 23: 'giraffe', 24: 'backpack', 25: 'umbrella', 26: 'handbag', 27: 'tie', 28: 'suitcase', 29: 'frisbee', 30: 'skis', 31: 'snowboard', 32: 'sports ball', 33: 'kite', 34: 'baseball bat', 35: 'baseball glove', 36: 'skateboard', 37: 'surfboard', 38: 'tennis racket', 39: 'bottle', 40: 'wine glass', 41: 'cup', 42: 'fork', 43: 'knife', 44: 'spoon', 45: 'bowl', 46: 'banana', 47: 'apple', 48: 'sandwich', 49: 'orange', 50: 'broccoli', 51: 'carrot', 52: 'hot dog', 53: 'pizza', 54: 'donut', 55: 'cake', 56: 'chair', 57: 'couch', 58: 'potted plant', 59: 'bed', 60: 'dining table', 61: 'toilet', 62: 'tv', 63: 'laptop', 64: 'mouse', 65: 'remote', 66: 'keyboard', 67: 'cell phone', 68: 'microwave', 69: 'oven', 70: 'toaster', 71: 'sink', 72: 'refrigerator', 73: 'book', 74: 'clock', 75: 'vase', 76: 'scissors', 77: 'teddy bear', 78: 'hair drier', 79: 'toothbrush'}"
   ]
  },
  {
   "cell_type": "code",
   "execution_count": 7,
   "id": "194c1490-5bca-4e41-8727-d0b58701a70a",
   "metadata": {},
   "outputs": [
    {
     "name": "stdout",
     "output_type": "stream",
     "text": [
      "person\n",
      "person\n",
      "person\n",
      "bus\n",
      "person\n"
     ]
    }
   ],
   "source": [
    "for result in results[0]:\n",
    "    index = int(result.boxes.cls.tolist()[0])  # Print detection boxes\n",
    "    print(f'{classes[index]}')\n",
    "    #print(result.boxes.conf)  # Print detection boxes\n",
    "    \n",
    "    #result.show()  # Display the annotated image\n",
    "    #result.save(filename=\"result.jpg\")  # Save annotated image\n",
    "    #break"
   ]
  },
  {
   "cell_type": "code",
   "execution_count": 48,
   "id": "e0f0a7b0-6940-4803-b984-c458b63c3c71",
   "metadata": {},
   "outputs": [
    {
     "data": {
      "text/plain": [
       "[0.0]"
      ]
     },
     "execution_count": 48,
     "metadata": {},
     "output_type": "execute_result"
    }
   ],
   "source": [
    "result.boxes.cls.tolist()"
   ]
  },
  {
   "cell_type": "code",
   "execution_count": null,
   "id": "9d32dd6d-391e-483a-8253-7758731b428a",
   "metadata": {},
   "outputs": [],
   "source": []
  }
 ],
 "metadata": {
  "kernelspec": {
   "display_name": "Python 3 (ipykernel)",
   "language": "python",
   "name": "python3"
  },
  "language_info": {
   "codemirror_mode": {
    "name": "ipython",
    "version": 3
   },
   "file_extension": ".py",
   "mimetype": "text/x-python",
   "name": "python",
   "nbconvert_exporter": "python",
   "pygments_lexer": "ipython3",
   "version": "3.11.2"
  }
 },
 "nbformat": 4,
 "nbformat_minor": 5
}
