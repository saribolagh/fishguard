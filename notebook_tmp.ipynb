{
 "cells": [
  {
   "cell_type": "code",
   "execution_count": 1,
   "id": "aabda47e-302f-4d60-9026-11149b5f9536",
   "metadata": {},
   "outputs": [
    {
     "name": "stderr",
     "output_type": "stream",
     "text": [
      "/usr/lib/python3/dist-packages/tqdm/auto.py:22: TqdmWarning: IProgress not found. Please update jupyter and ipywidgets. See https://ipywidgets.readthedocs.io/en/stable/user_install.html\n",
      "  from .autonotebook import tqdm as notebook_tqdm\n"
     ]
    }
   ],
   "source": [
    "from transformers import AutoFeatureExtractor, AutoModelForImageClassification"
   ]
  },
  {
   "cell_type": "code",
   "execution_count": 5,
   "id": "fd0ed37f-b1b2-4477-bd4b-da5bb4e95d37",
   "metadata": {},
   "outputs": [
    {
     "name": "stdout",
     "output_type": "stream",
     "text": [
      "BLUE HERON\n"
     ]
    }
   ],
   "source": [
    "# Importing the libraries needed\n",
    "import torch\n",
    "import urllib.request\n",
    "from PIL import Image\n",
    "from transformers import EfficientNetImageProcessor, EfficientNetForImageClassification\n",
    "\n",
    "# Determining the file URL\n",
    "url = 'some url'\n",
    "\n",
    "# Opening the image using PIL\n",
    "img = Image.open('heron.jpg')\n",
    "\n",
    "# Loading the model and preprocessor from HuggingFace\n",
    "preprocessor = EfficientNetImageProcessor.from_pretrained(\"dennisjooo/Birds-Classifier-EfficientNetB2\")\n",
    "model = EfficientNetForImageClassification.from_pretrained(\"dennisjooo/Birds-Classifier-EfficientNetB2\")\n",
    "\n",
    "# Preprocessing the input\n",
    "inputs = preprocessor(img, return_tensors=\"pt\")\n",
    "\n",
    "# Running the inference\n",
    "with torch.no_grad():\n",
    "    logits = model(**inputs).logits\n",
    "\n",
    "# Getting the predicted label\n",
    "predicted_label = logits.argmax(-1).item()\n",
    "print(model.config.id2label[predicted_label])\n"
   ]
  },
  {
   "cell_type": "code",
   "execution_count": null,
   "id": "322c3f43-6e95-463f-9266-03d3ad8607c7",
   "metadata": {},
   "outputs": [],
   "source": []
  }
 ],
 "metadata": {
  "kernelspec": {
   "display_name": "Python 3 (ipykernel)",
   "language": "python",
   "name": "python3"
  },
  "language_info": {
   "codemirror_mode": {
    "name": "ipython",
    "version": 3
   },
   "file_extension": ".py",
   "mimetype": "text/x-python",
   "name": "python",
   "nbconvert_exporter": "python",
   "pygments_lexer": "ipython3",
   "version": "3.11.2"
  }
 },
 "nbformat": 4,
 "nbformat_minor": 5
}
